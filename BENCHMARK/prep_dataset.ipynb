{
 "cells": [
  {
   "cell_type": "code",
   "execution_count": 19,
   "metadata": {},
   "outputs": [],
   "source": [
    "import os\n",
    "import cv2\n",
    "import torch\n",
    "import h5py\n",
    "import numpy as np\n",
    "import json\n",
    "from tqdm import trange"
   ]
  },
  {
   "cell_type": "code",
   "execution_count": 20,
   "metadata": {},
   "outputs": [],
   "source": [
    "repo_path = \"/home/sjauhri/IAS_WS/EgoVis/2handedafforder_repo/\"\n",
    "dataset_folder = repo_path + \"BENCHMARK/dataset_bench/EPIC_DATA/datasets/dset/P20_03/\"\n",
    "original_frame_folder = repo_path + \"BENCHMARK/frames/P20/P20_03/\"\n",
    "full_inpainted_frame_folder = repo_path + \"BENCHMARK/inpainted/hand_inpainting/EPIC_DATA/hand_inpainting/P20_03/\"\n",
    "out_folder = dataset_folder\n",
    "visualization_active = True"
   ]
  },
  {
   "cell_type": "code",
   "execution_count": null,
   "metadata": {},
   "outputs": [],
   "source": [
    "# loop through all the subdirectories in the data_folder provided\n",
    "for subdir, dirs, files in os.walk(dataset_folder, topdown=True):\n",
    "\n",
    "    print(f\"remove color jitter folders...\")\n",
    "    # for dir in dirs:\n",
    "    for i in trange(len(dirs)):\n",
    "        dir = dirs[i]\n",
    "        if 'cj' in dir:\n",
    "            # remove\n",
    "            os.system(f\"rm -rf {subdir + dir}\")"
   ]
  },
  {
   "cell_type": "code",
   "execution_count": 24,
   "metadata": {},
   "outputs": [
    {
     "name": "stdout",
     "output_type": "stream",
     "text": [
      "Copying 378 original frames to subdirectories in: /home/sjauhri/IAS_WS/EgoVis/2handedafforder_repo/BENCHMARK/dataset_bench/EPIC_DATA/datasets/dset/P14_05/\n"
     ]
    },
    {
     "name": "stderr",
     "output_type": "stream",
     "text": [
      "100%|██████████| 378/378 [00:00<00:00, 583.29it/s]\n"
     ]
    }
   ],
   "source": [
    "orginal_frame_file_prefix = \"frame_000\"\n",
    "\n",
    "# loop through all the subdirectories in the data_folder provided\n",
    "for subdir, dirs, files in os.walk(dataset_folder, topdown=True):\n",
    "\n",
    "    print(f\"Copying {len(dirs)} original frames to subdirectories in: {subdir}\")\n",
    "    # for dir in dirs:\n",
    "    for i in trange(len(dirs)):\n",
    "        dir = dirs[i]\n",
    "        if 'cj' in dir:\n",
    "            # skip\n",
    "            continue\n",
    "    \n",
    "        # fetch the original video frame corresponding to this datapoint\n",
    "        frame_id = dir\n",
    "        # print(\"Frame ID: \", frame_id)\n",
    "        original_frame_file_path = original_frame_folder + orginal_frame_file_prefix + frame_id + \".jpg\"\n",
    "\n",
    "        # copy origianl frame file to current subdirectory\n",
    "        cmd = \"cp \" + original_frame_file_path + \" \" + subdir + dir + \"/\"\n",
    "        # print(cmd)\n",
    "        os.system(cmd)\n",
    "\n",
    "        # print(f\"Copied {original_frame_file_path} to {subdir + dir}/\")\n",
    "\n",
    "    break\n",
    "    "
   ]
  },
  {
   "cell_type": "code",
   "execution_count": 11,
   "metadata": {},
   "outputs": [
    {
     "name": "stdout",
     "output_type": "stream",
     "text": [
      "Copying 8982 full inpainted frames to subdirectories in: /home/sjauhri/IAS_WS/EgoVis/2handedafforder_repo/BENCHMARK/dataset_bench/EPIC_DATA/datasets/dset/P01_01/\n"
     ]
    },
    {
     "name": "stderr",
     "output_type": "stream",
     "text": [
      "100%|██████████| 8982/8982 [00:09<00:00, 918.21it/s] \n"
     ]
    }
   ],
   "source": [
    "# loop through all the subdirectories in the data_folder provided\n",
    "for subdir, dirs, files in os.walk(dataset_folder, topdown=True):\n",
    "\n",
    "    print(f\"Copying {len(dirs)} full inpainted frames to subdirectories in: {subdir}\")\n",
    "    # for dir in dirs:\n",
    "    for i in trange(len(dirs)):\n",
    "        dir = dirs[i]\n",
    "        if 'cj' in dir:\n",
    "            # skip\n",
    "            continue\n",
    "    \n",
    "        # fetch the full inpainted video frame corresponding to this datapoint\n",
    "        frame_id = dir\n",
    "        # print(\"Frame ID: \", frame_id)\n",
    "        full_inpainted_frame_file_path = full_inpainted_frame_folder + frame_id + \".png\"\n",
    "\n",
    "        # copy full inpainted frame file to current subdirectory\n",
    "        dest_file_path = subdir + dir + \"/full_inpainted_frame.png\"\n",
    "        cmd = \"cp \" + full_inpainted_frame_file_path + \" \" + dest_file_path\n",
    "        # print(cmd)\n",
    "        os.system(cmd)\n",
    "\n",
    "        # print(f\"Copied {full_inpainted_frame_file_path} to {dest_file_path}\")\n",
    "        # break\n",
    "\n",
    "    break"
   ]
  },
  {
   "cell_type": "code",
   "execution_count": 21,
   "metadata": {},
   "outputs": [
    {
     "name": "stdout",
     "output_type": "stream",
     "text": [
      "Creating 1087 benchmark frames in subdirectories in: /home/sjauhri/IAS_WS/EgoVis/2handedafforder_repo/BENCHMARK/dataset_bench/EPIC_DATA/datasets/dset/P20_03/\n"
     ]
    },
    {
     "name": "stderr",
     "output_type": "stream",
     "text": [
      "100%|██████████| 1087/1087 [00:09<00:00, 113.24it/s]\n"
     ]
    }
   ],
   "source": [
    "# Create viz images for annotation (affordance class + inpainted image + original image)\n",
    "\n",
    "orginal_frame_file_prefix = \"frame_000\"\n",
    "\n",
    "# loop through all the subdirectories in the data_folder provided\n",
    "for subdir, dirs, files in os.walk(dataset_folder, topdown=True):\n",
    "\n",
    "    print(f\"Creating {len(dirs)} benchmark frames in subdirectories in: {subdir}\")\n",
    "\n",
    "    # for dir in dirs:\n",
    "    for i in trange(len(dirs)):\n",
    "        dir = dirs[i]\n",
    "        if 'cj' in dir:\n",
    "            # skip\n",
    "            continue\n",
    "        # dir = '0011885'\n",
    "        # fetch the original video frame corresponding to this datapoint\n",
    "        frame_id = dir\n",
    "        # print(\"Frame ID: \", frame_id)\n",
    "        original_frame_file_path = subdir + dir + \"/\" + orginal_frame_file_prefix + frame_id + \".jpg\"\n",
    "\n",
    "        # inpainted_frame_file_path = subdir + dir + \"/inpainted_frame.png\"\n",
    "        inpainted_frame_file_path = subdir + dir + \"/full_inpainted_frame.png\"\n",
    "\n",
    "        # get the affordance class from the json file\n",
    "        affordance_annotation_file_path = subdir + dir + \"/annotation.json\"\n",
    "\n",
    "        # create new image by concatenating the inpainted image, original image and affordance class\n",
    "        original_frame = cv2.imread(original_frame_file_path)\n",
    "        inpainted_frame = cv2.imread(inpainted_frame_file_path)\n",
    "        inpainted_frame = cv2.cvtColor(inpainted_frame, cv2.COLOR_BGR2RGB)\n",
    "        inpainted_frame = cv2.resize(inpainted_frame, (inpainted_frame.shape[1] * 2, inpainted_frame.shape[0] * 2))\n",
    "        with open(affordance_annotation_file_path, 'r') as f:\n",
    "            annotation_data = json.load(f)\n",
    "            aff_class = annotation_data.get('narration', 'Unknown')\n",
    "        if original_frame is not None and inpainted_frame is not None:\n",
    "            # Scale down the original frame to 2/3rd the size\n",
    "            original_frame = cv2.resize(original_frame, (original_frame.shape[1] * 2 // 3, original_frame.shape[0] * 2 // 3))\n",
    "\n",
    "            # Resize original frame to match the height of the inpainted frame\n",
    "            height_diff = inpainted_frame.shape[0] - original_frame.shape[0]\n",
    "            black_space = np.zeros((height_diff, original_frame.shape[1], 3), dtype=np.uint8)\n",
    "\n",
    "            # Add white text to the black space\n",
    "            font = cv2.FONT_HERSHEY_SIMPLEX\n",
    "            font_scale = 1\n",
    "            font_color = (255, 255, 255)\n",
    "            thickness = 2\n",
    "            text = f\"Task:\"\n",
    "            text_size = cv2.getTextSize(text, font, font_scale, thickness)[0]\n",
    "            text_x = (black_space.shape[1] - text_size[0]) // 2\n",
    "            text_y = (black_space.shape[0] + text_size[1]) // 2\n",
    "            cv2.putText(black_space, text, (text_x, text_y), font, font_scale, font_color, thickness)\n",
    "            text = f\"{aff_class}\"\n",
    "            # Split the text into multiple lines if it doesn't fit in the width\n",
    "            max_width = black_space.shape[1]\n",
    "            words = text.split()\n",
    "            lines = []\n",
    "            current_line = words[0]\n",
    "\n",
    "            for word in words[1:]:\n",
    "                if cv2.getTextSize(current_line + ' ' + word, font, font_scale, thickness)[0][0] < max_width:\n",
    "                    current_line += ' ' + word\n",
    "                else:\n",
    "                    lines.append(current_line)\n",
    "                    current_line = word\n",
    "            lines.append(current_line)\n",
    "\n",
    "            y_offset = text_y + 50\n",
    "            for line in lines:\n",
    "                text_size = cv2.getTextSize(line, font, font_scale, thickness)[0]\n",
    "                text_x = (black_space.shape[1] - text_size[0]) // 2\n",
    "                cv2.putText(black_space, line, (text_x, y_offset), font, font_scale, font_color, thickness)\n",
    "                y_offset += text_size[1] + 10\n",
    "\n",
    "            original_frame = np.vstack((black_space, original_frame))\n",
    "\n",
    "            benchmark_frame = np.concatenate((inpainted_frame, original_frame), axis=1)\n",
    "            benchmark_frame_path = subdir + dir + \"/benchmark_frame.png\"\n",
    "            cv2.imwrite(benchmark_frame_path, benchmark_frame)\n",
    "            # print(f\"Saved benchmark frame to {benchmark_frame_path}\")\n",
    "\n",
    "        else:\n",
    "            raise Exception(\"Original or inpainted frame is not found\")\n",
    "        \n",
    "    break"
   ]
  }
 ],
 "metadata": {
  "kernelspec": {
   "display_name": "2handedafforder",
   "language": "python",
   "name": "python3"
  },
  "language_info": {
   "codemirror_mode": {
    "name": "ipython",
    "version": 3
   },
   "file_extension": ".py",
   "mimetype": "text/x-python",
   "name": "python",
   "nbconvert_exporter": "python",
   "pygments_lexer": "ipython3",
   "version": "3.8.19"
  }
 },
 "nbformat": 4,
 "nbformat_minor": 2
}
