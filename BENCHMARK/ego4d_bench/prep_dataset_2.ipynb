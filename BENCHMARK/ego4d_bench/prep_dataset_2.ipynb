{
 "cells": [
  {
   "cell_type": "code",
   "execution_count": 17,
   "metadata": {},
   "outputs": [],
   "source": [
    "import os\n",
    "import cv2\n",
    "import torch\n",
    "import h5py\n",
    "import numpy as np\n",
    "import json\n",
    "from tqdm import trange"
   ]
  },
  {
   "cell_type": "code",
   "execution_count": 18,
   "metadata": {},
   "outputs": [],
   "source": [
    "repo_path = \"/home/sjauhri/IAS_WS/EgoVis/2handedafforder_repo/\"\n",
    "dataset_folder = repo_path + \"BENCHMARK/ego4d_bench/bench_data/\"\n",
    "out_folder = repo_path + \"BENCHMARK/ego4d_bench/bench_data_cleaned/\""
   ]
  },
  {
   "cell_type": "code",
   "execution_count": 19,
   "metadata": {},
   "outputs": [],
   "source": [
    "# # loop through all the subdirectories in the data_folder provided\n",
    "# for subdir, dirs, files in os.walk(dataset_folder, topdown=True):\n",
    "\n",
    "#     print(f\"Finding correct frame_ids...\")\n",
    "    \n",
    "#     # Get all consecutive frame_id 'sets'\n",
    "#     frame_ids = sorted([int(d) for d in dirs if d.isdigit()])\n",
    "#     consecutive_sets = []\n",
    "#     current_set = [frame_ids[0]]\n",
    "\n",
    "#     for j in range(1, len(frame_ids)):\n",
    "#         if frame_ids[j] == frame_ids[j - 1] + 1:\n",
    "#             current_set.append(frame_ids[j])\n",
    "#         else:\n",
    "#             consecutive_sets.append(current_set)\n",
    "#             current_set = [frame_ids[j]]\n",
    "\n",
    "#     consecutive_sets.append(current_set)\n",
    "#     print(consecutive_sets)\n",
    "\n",
    "#     break"
   ]
  },
  {
   "cell_type": "code",
   "execution_count": 20,
   "metadata": {},
   "outputs": [],
   "source": [
    "# frame_file_prefix = \"frame_000\"\n",
    "# # if out_folder does not exist, create it\n",
    "# if not os.path.exists(out_folder):\n",
    "#     os.makedirs(out_folder)\n",
    "\n",
    "\n",
    "# for subdir, dirs, files in os.walk(dataset_folder, topdown=True):\n",
    "#     print(f\"Copying to bench_frames subfolders...\")\n",
    "#     for i in trange(len(consecutive_sets)):\n",
    "#         consecutive_set = consecutive_sets[i]\n",
    "    \n",
    "#         # pick one random frame from the set\n",
    "#         rand_idx = np.random.randint(0, len(consecutive_set))\n",
    "#         frame_id = consecutive_set[rand_idx]\n",
    "#         frame_id_string = str(frame_id).zfill(7)\n",
    "#         # print(\"Frame ID: \", frame_id)\n",
    "#         bechmark_frame_file_path = subdir + frame_id_string + \"/\" + \"benchmark_frame.png\"\n",
    "#         # copy benchmark frame to out_folder\n",
    "#         cmd = f\"cp {bechmark_frame_file_path} {out_folder}/benchmark_frame_000{frame_id}.png\"\n",
    "#         # print(cmd)\n",
    "#         os.system(cmd)\n",
    "\n",
    "#         # if possible, pick one more frame from the consecutive set:\n",
    "#         if len(consecutive_set) > 1:\n",
    "#             new_rand_idx = np.random.randint(0, len(consecutive_set))\n",
    "#             while new_rand_idx == rand_idx:\n",
    "#                 new_rand_idx = np.random.randint(0, len(consecutive_set))\n",
    "#             rand_idx = new_rand_idx\n",
    "#             frame_id = consecutive_set[rand_idx]\n",
    "#             frame_id_string = str(frame_id).zfill(7)\n",
    "#             bechmark_frame_file_path = subdir + frame_id_string + \"/\" + \"benchmark_frame.png\"\n",
    "#             # copy benchmark frame to out_folder\n",
    "#             cmd = f\"cp {bechmark_frame_file_path} {out_folder}/benchmark_frame_000{frame_id}.png\"\n",
    "#             # print(cmd)\n",
    "#             os.system(cmd)\n",
    "\n",
    "#         # print(f\"Copied {original_frame_file_path} to {subdir + dir}/\")\n",
    "\n",
    "#     break"
   ]
  },
  {
   "cell_type": "code",
   "execution_count": 21,
   "metadata": {},
   "outputs": [
    {
     "name": "stderr",
     "output_type": "stream",
     "text": [
      "Processing videos:   0%|          | 0/8 [00:00<?, ?it/s]"
     ]
    },
    {
     "name": "stdout",
     "output_type": "stream",
     "text": [
      "Copying to bench_frames subfolders...\n"
     ]
    },
    {
     "name": "stderr",
     "output_type": "stream",
     "text": [
      "100%|██████████| 260/260 [00:00<00:00, 279.69it/s]\n",
      "Processing videos:  12%|█▎        | 1/8 [00:00<00:06,  1.07it/s]"
     ]
    },
    {
     "name": "stdout",
     "output_type": "stream",
     "text": [
      "Copying to bench_frames subfolders...\n"
     ]
    },
    {
     "name": "stderr",
     "output_type": "stream",
     "text": [
      "100%|██████████| 92/92 [00:00<00:00, 275.60it/s]\n",
      "Processing videos:  25%|██▌       | 2/8 [00:01<00:03,  1.72it/s]"
     ]
    },
    {
     "name": "stdout",
     "output_type": "stream",
     "text": [
      "Copying to bench_frames subfolders...\n"
     ]
    },
    {
     "name": "stderr",
     "output_type": "stream",
     "text": [
      "100%|██████████| 426/426 [00:01<00:00, 279.31it/s]\n",
      "Processing videos:  38%|███▊      | 3/8 [00:02<00:05,  1.01s/it]"
     ]
    },
    {
     "name": "stdout",
     "output_type": "stream",
     "text": [
      "Copying to bench_frames subfolders...\n"
     ]
    },
    {
     "name": "stderr",
     "output_type": "stream",
     "text": [
      "100%|██████████| 200/200 [00:00<00:00, 320.27it/s]\n",
      "Processing videos:  50%|█████     | 4/8 [00:03<00:03,  1.16it/s]"
     ]
    },
    {
     "name": "stdout",
     "output_type": "stream",
     "text": [
      "Copying to bench_frames subfolders...\n"
     ]
    },
    {
     "name": "stderr",
     "output_type": "stream",
     "text": [
      "100%|██████████| 409/409 [00:01<00:00, 311.26it/s]\n",
      "Processing videos:  62%|██████▎   | 5/8 [00:04<00:03,  1.03s/it]"
     ]
    },
    {
     "name": "stdout",
     "output_type": "stream",
     "text": [
      "Copying to bench_frames subfolders...\n"
     ]
    },
    {
     "name": "stderr",
     "output_type": "stream",
     "text": [
      "100%|██████████| 773/773 [00:02<00:00, 297.44it/s]\n",
      "Processing videos:  75%|███████▌  | 6/8 [00:07<00:03,  1.56s/it]"
     ]
    },
    {
     "name": "stdout",
     "output_type": "stream",
     "text": [
      "Copying to bench_frames subfolders...\n"
     ]
    },
    {
     "name": "stderr",
     "output_type": "stream",
     "text": [
      "100%|██████████| 319/319 [00:01<00:00, 313.82it/s]\n",
      "Processing videos:  88%|████████▊ | 7/8 [00:08<00:01,  1.38s/it]"
     ]
    },
    {
     "name": "stdout",
     "output_type": "stream",
     "text": [
      "Copying to bench_frames subfolders...\n"
     ]
    },
    {
     "name": "stderr",
     "output_type": "stream",
     "text": [
      "100%|██████████| 714/714 [00:02<00:00, 312.31it/s]\n",
      "Processing videos: 100%|██████████| 8/8 [00:10<00:00,  1.33s/it]\n"
     ]
    }
   ],
   "source": [
    "# if out_folder does not exist, create it\n",
    "if not os.path.exists(out_folder):\n",
    "    os.makedirs(out_folder)\n",
    "\n",
    "for i in trange(len(os.listdir(dataset_folder)), desc=\"Processing videos\"):\n",
    "    video_dir = os.listdir(dataset_folder)[i]\n",
    "    \n",
    "    # loop through all the subdirectories in the data_folder provided\n",
    "    for subdir, dirs, files in os.walk(os.path.join(dataset_folder, video_dir), topdown=True):\n",
    "\n",
    "        print(f\"Copying to bench_frames subfolders...\")\n",
    "\n",
    "        for i in trange(len(dirs)):\n",
    "            dir = dirs[i]\n",
    "        \n",
    "            frame_id = dir\n",
    "            # print(\"Frame ID: \", frame_id)\n",
    "            bechmark_frame_file_path = subdir + \"/\" + dir + \"/\" + \"benchmark_frame.png\"\n",
    "            # copy benchmark frame to out_folder\n",
    "            cmd = f\"cp {bechmark_frame_file_path} {out_folder}/benchmark_frame_{video_dir}_{frame_id}.png\"\n",
    "            # print(cmd)\n",
    "            os.system(cmd)\n",
    "\n",
    "            # print(f\"Copied {original_frame_file_path} to {subdir + dir}/\")\n",
    "        break"
   ]
  }
 ],
 "metadata": {
  "kernelspec": {
   "display_name": "2handedafforder",
   "language": "python",
   "name": "python3"
  },
  "language_info": {
   "codemirror_mode": {
    "name": "ipython",
    "version": 3
   },
   "file_extension": ".py",
   "mimetype": "text/x-python",
   "name": "python",
   "nbconvert_exporter": "python",
   "pygments_lexer": "ipython3",
   "version": "3.8.19"
  }
 },
 "nbformat": 4,
 "nbformat_minor": 2
}
