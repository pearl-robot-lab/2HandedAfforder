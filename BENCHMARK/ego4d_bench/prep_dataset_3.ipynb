{
 "cells": [
  {
   "cell_type": "code",
   "execution_count": 5,
   "metadata": {},
   "outputs": [],
   "source": [
    "import os\n",
    "import cv2\n",
    "import torch\n",
    "import h5py\n",
    "import numpy as np\n",
    "import json\n",
    "from tqdm import trange"
   ]
  },
  {
   "cell_type": "code",
   "execution_count": 6,
   "metadata": {},
   "outputs": [],
   "source": [
    "repo_path = \"/home/sjauhri/IAS_WS/EgoVis/2handedafforder_repo/\"\n",
    "initial_out_folder = repo_path + \"BENCHMARK/ego4d_bench/bench_data_cleaned/\"\n",
    "final_out_folder = repo_path + \"BENCHMARK/ego4d_bench/bench_frames_shuffled/\"\n",
    "\n",
    "if not os.path.exists(final_out_folder):\n",
    "    os.makedirs(final_out_folder)"
   ]
  },
  {
   "cell_type": "code",
   "execution_count": 7,
   "metadata": {},
   "outputs": [],
   "source": [
    "import shutil\n",
    "import random\n",
    "\n",
    "# Get list of all files in initial folder and subdirectories\n",
    "file_list = []\n",
    "for root, dirs, files in os.walk(initial_out_folder):\n",
    "    for file in files:\n",
    "        file_list.append(os.path.join(root, file))\n",
    "\n",
    "# Shuffle the file list\n",
    "random.shuffle(file_list)\n",
    "\n",
    "# Copy files to final folder with ID and subdir prefix\n",
    "for idx, file_path in enumerate(file_list):\n",
    "    file_name = os.path.basename(file_path)\n",
    "    # subdir_name = os.path.basename(os.path.dirname(file_path))\n",
    "    # new_file_name = f\"{idx}_{subdir_name}_{file_name}\"\n",
    "    new_file_name = f\"{idx}_{file_name}\"\n",
    "    new_file_path = os.path.join(final_out_folder, new_file_name)\n",
    "    shutil.copy(file_path, new_file_path)"
   ]
  }
 ],
 "metadata": {
  "kernelspec": {
   "display_name": "2handedafforder",
   "language": "python",
   "name": "python3"
  },
  "language_info": {
   "codemirror_mode": {
    "name": "ipython",
    "version": 3
   },
   "file_extension": ".py",
   "mimetype": "text/x-python",
   "name": "python",
   "nbconvert_exporter": "python",
   "pygments_lexer": "ipython3",
   "version": "3.8.19"
  }
 },
 "nbformat": 4,
 "nbformat_minor": 2
}
